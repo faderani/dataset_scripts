{
 "cells": [
  {
   "cell_type": "code",
   "execution_count": 82,
   "metadata": {},
   "outputs": [],
   "source": [
    "import numpy as np\n",
    "import cv2\n",
    "import os\n",
    "from tqdm import tqdm\n",
    "import json"
   ]
  },
  {
   "cell_type": "code",
   "execution_count": 83,
   "metadata": {},
   "outputs": [],
   "source": [
    "def get_np(hand_path, obj_path):\n",
    "    try:\n",
    "        hand_bbox = np.load(hand_path)\n",
    "    except:\n",
    "\n",
    "        hand_bbox = []\n",
    "    try:\n",
    "        obj_bbox = np.load(obj_path)\n",
    "    except:\n",
    "        obj_bbox = []\n",
    "        \n",
    "    return hand_bbox, obj_bbox\n",
    "    "
   ]
  },
  {
   "cell_type": "code",
   "execution_count": 104,
   "metadata": {},
   "outputs": [],
   "source": [
    "def draw_bbox(img_path, hand_bbox, obj_bbox, save_path):\n",
    "    \n",
    "    img = cv2.imread(img_path)\n",
    "    coords1_x = []\n",
    "    coords1_y = []\n",
    "    coords2_x = []\n",
    "    coords2_y = []\n",
    "    \n",
    "    for bbox in hand_bbox:\n",
    "        score = bbox[4]\n",
    "        if score > 0.8:\n",
    "            x1, y1, x2, y2 = bbox[0:4].astype(np.uint64)\n",
    "            cv2.rectangle(img, (x1, y1), (x2, y2), (255,153,51), 2)\n",
    "            x, y, w, h = x1, y1, x2-x1, y2-y1\n",
    "            sub_img = img[y:y+h, x:x+w]\n",
    "            rect = np.ones(sub_img.shape, dtype=np.uint8)\n",
    "            rect[:,:] = [255,153,51]\n",
    "            res = cv2.addWeighted(sub_img, 0.7, rect, 0.3, 1.0)\n",
    "            # Putting the image back to its position\n",
    "            img[y:y+h, x:x+w] = res\n",
    "            c_x1 = int(x1/2+x2/2)\n",
    "            c_y1 = int(y1/2+y2/2)\n",
    "            img = cv2.circle(img, (c_x1,c_y1), radius=6, color=(255,153,51), thickness=-1)\n",
    "            \n",
    "            coords1_x.append(c_x1)\n",
    "            coords1_y.append(c_y1)\n",
    "\n",
    "\n",
    "    for bbox in obj_bbox:\n",
    "        score = bbox[4]\n",
    "        if score > 0.8:\n",
    "            x1, y1, x2, y2 = bbox[0:4].astype(np.uint64)\n",
    "            if (x2-x1)*(y2-y1)/37200 > 0.9:\n",
    "                w = x2-x1\n",
    "                h = y2-y1\n",
    "                x1 = int(x1 + w / 4)\n",
    "                y1 = int(y1 + h / 4)\n",
    "                x2 = int(x2 - w / 4)\n",
    "                y2 = int(y2 - h / 4)\n",
    "            x1, y1, x2, y2 = bbox[0:4].astype(np.uint64)\n",
    "            cv2.rectangle(img, (x1, y1), (x2, y2), (153,255,255), 2)\n",
    "            x, y, w, h = x1, y1, x2-x1, y2-y1\n",
    "            sub_img = img[y:y+h, x:x+w]\n",
    "            rect = np.ones(sub_img.shape, dtype=np.uint8)\n",
    "            rect[:,:] = [153,255,255]\n",
    "            res = cv2.addWeighted(sub_img, 0.7, rect, 0.3, 1.0)\n",
    "            # Putting the image back to its position\n",
    "            img[y:y+h, x:x+w] = res\n",
    "            c_x2 = int(x1/2+x2/2)\n",
    "            c_y2 = int(y1/2+y2/2)\n",
    "            img = cv2.circle(img, (c_x2,c_y2), radius=6, color=(153,255,255), thickness=-1)\n",
    "            \n",
    "            coords2_x.append(c_x2)\n",
    "            coords2_y.append(c_y2)\n",
    "\n",
    "    for x in range(0, len(coords2_x)):\n",
    "        if x == 3:\n",
    "            cv2.line(img, (coords1_x[x], coords1_y[x]), (coords2_x[x], coords2_y[x]), (255,153,51), 4)\n",
    "            continue\n",
    "        cv2.line(img, (coords1_x[x], coords1_y[x]), (coords2_x[x], coords2_y[x]), (255,153,51), 4)\n",
    "\n",
    "    cv2.imwrite(save_path, img)\n",
    "    "
   ]
  },
  {
   "cell_type": "code",
   "execution_count": 105,
   "metadata": {},
   "outputs": [
    {
     "ename": "TypeError",
     "evalue": "draw_bbox() missing 1 required positional argument: 'save_path'",
     "output_type": "error",
     "traceback": [
      "\u001b[0;31m---------------------------------------------------------------------------\u001b[0m",
      "\u001b[0;31mTypeError\u001b[0m                                 Traceback (most recent call last)",
      "\u001b[0;32m/tmp/ipykernel_18456/1713471307.py\u001b[0m in \u001b[0;36m<module>\u001b[0;34m\u001b[0m\n\u001b[1;32m      5\u001b[0m \u001b[0;34m\u001b[0m\u001b[0m\n\u001b[1;32m      6\u001b[0m \u001b[0mhand_bbox\u001b[0m\u001b[0;34m,\u001b[0m \u001b[0mobj_bbox\u001b[0m \u001b[0;34m=\u001b[0m \u001b[0mget_np\u001b[0m\u001b[0;34m(\u001b[0m\u001b[0mhand_path\u001b[0m\u001b[0;34m,\u001b[0m \u001b[0mobj_path\u001b[0m\u001b[0;34m)\u001b[0m\u001b[0;34m\u001b[0m\u001b[0;34m\u001b[0m\u001b[0m\n\u001b[0;32m----> 7\u001b[0;31m \u001b[0mdraw_bbox\u001b[0m\u001b[0;34m(\u001b[0m\u001b[0mimg_path\u001b[0m\u001b[0;34m,\u001b[0m \u001b[0mhand_bbox\u001b[0m\u001b[0;34m,\u001b[0m \u001b[0mobj_bbox\u001b[0m\u001b[0;34m)\u001b[0m\u001b[0;34m\u001b[0m\u001b[0;34m\u001b[0m\u001b[0m\n\u001b[0m",
      "\u001b[0;31mTypeError\u001b[0m: draw_bbox() missing 1 required positional argument: 'save_path'"
     ]
    }
   ],
   "source": [
    "hand_path = \"/ssd2/datasets/EGTEA_Gaze++/hand_plus_object_npy/OP01-R06-GreekSalad/OP01-R06-GreekSalad-159750-160540-F003832-F003855/\"\n",
    "obj_path = \"/ssd2/datasets/EGTEA_Gaze++/hand_plus_object_npy/OP01-R06-GreekSalad/OP01-R06-GreekSalad-159750-160540-F003832-F003855/\"\n",
    "img_path = \"/ssd2/datasets/EGTEA_Gaze++/frames/OP01-R06-GreekSalad/OP01-R06-GreekSalad-159750-160540-F003832-F003855/\"\n",
    "\n",
    "\n",
    "hand_bbox, obj_bbox = get_np(hand_path, obj_path)\n",
    "draw_bbox(img_path, hand_bbox, obj_bbox)"
   ]
  },
  {
   "cell_type": "code",
   "execution_count": 106,
   "metadata": {},
   "outputs": [
    {
     "name": "stdout",
     "output_type": "stream",
     "text": [
      "/ssd2/datasets/EGTEA_Gaze++/hand_plus_object_npy/OP01-R06-GreekSalad/OP01-R06-GreekSalad-159750-160540-F003832-F003855/1_hand.npy\n",
      "/ssd2/datasets/EGTEA_Gaze++/hand_plus_object_npy/OP01-R06-GreekSalad/OP01-R06-GreekSalad-159750-160540-F003832-F003855/2_hand.npy\n",
      "/ssd2/datasets/EGTEA_Gaze++/hand_plus_object_npy/OP01-R06-GreekSalad/OP01-R06-GreekSalad-159750-160540-F003832-F003855/3_hand.npy\n",
      "/ssd2/datasets/EGTEA_Gaze++/hand_plus_object_npy/OP01-R06-GreekSalad/OP01-R06-GreekSalad-159750-160540-F003832-F003855/4_hand.npy\n",
      "/ssd2/datasets/EGTEA_Gaze++/hand_plus_object_npy/OP01-R06-GreekSalad/OP01-R06-GreekSalad-159750-160540-F003832-F003855/5_hand.npy\n",
      "/ssd2/datasets/EGTEA_Gaze++/hand_plus_object_npy/OP01-R06-GreekSalad/OP01-R06-GreekSalad-159750-160540-F003832-F003855/6_hand.npy\n",
      "/ssd2/datasets/EGTEA_Gaze++/hand_plus_object_npy/OP01-R06-GreekSalad/OP01-R06-GreekSalad-159750-160540-F003832-F003855/7_hand.npy\n",
      "/ssd2/datasets/EGTEA_Gaze++/hand_plus_object_npy/OP01-R06-GreekSalad/OP01-R06-GreekSalad-159750-160540-F003832-F003855/8_hand.npy\n",
      "/ssd2/datasets/EGTEA_Gaze++/hand_plus_object_npy/OP01-R06-GreekSalad/OP01-R06-GreekSalad-159750-160540-F003832-F003855/9_hand.npy\n",
      "/ssd2/datasets/EGTEA_Gaze++/hand_plus_object_npy/OP01-R06-GreekSalad/OP01-R06-GreekSalad-159750-160540-F003832-F003855/10_hand.npy\n",
      "/ssd2/datasets/EGTEA_Gaze++/hand_plus_object_npy/OP01-R06-GreekSalad/OP01-R06-GreekSalad-159750-160540-F003832-F003855/11_hand.npy\n",
      "/ssd2/datasets/EGTEA_Gaze++/hand_plus_object_npy/OP01-R06-GreekSalad/OP01-R06-GreekSalad-159750-160540-F003832-F003855/12_hand.npy\n",
      "/ssd2/datasets/EGTEA_Gaze++/hand_plus_object_npy/OP01-R06-GreekSalad/OP01-R06-GreekSalad-159750-160540-F003832-F003855/13_hand.npy\n",
      "/ssd2/datasets/EGTEA_Gaze++/hand_plus_object_npy/OP01-R06-GreekSalad/OP01-R06-GreekSalad-159750-160540-F003832-F003855/14_hand.npy\n",
      "/ssd2/datasets/EGTEA_Gaze++/hand_plus_object_npy/OP01-R06-GreekSalad/OP01-R06-GreekSalad-159750-160540-F003832-F003855/15_hand.npy\n",
      "/ssd2/datasets/EGTEA_Gaze++/hand_plus_object_npy/OP01-R06-GreekSalad/OP01-R06-GreekSalad-159750-160540-F003832-F003855/16_hand.npy\n",
      "/ssd2/datasets/EGTEA_Gaze++/hand_plus_object_npy/OP01-R06-GreekSalad/OP01-R06-GreekSalad-159750-160540-F003832-F003855/17_hand.npy\n",
      "/ssd2/datasets/EGTEA_Gaze++/hand_plus_object_npy/OP01-R06-GreekSalad/OP01-R06-GreekSalad-159750-160540-F003832-F003855/18_hand.npy\n",
      "/ssd2/datasets/EGTEA_Gaze++/hand_plus_object_npy/OP01-R06-GreekSalad/OP01-R06-GreekSalad-159750-160540-F003832-F003855/19_hand.npy\n",
      "/ssd2/datasets/EGTEA_Gaze++/hand_plus_object_npy/OP01-R06-GreekSalad/OP01-R06-GreekSalad-159750-160540-F003832-F003855/20_hand.npy\n",
      "/ssd2/datasets/EGTEA_Gaze++/hand_plus_object_npy/OP01-R06-GreekSalad/OP01-R06-GreekSalad-159750-160540-F003832-F003855/21_hand.npy\n",
      "/ssd2/datasets/EGTEA_Gaze++/hand_plus_object_npy/OP01-R06-GreekSalad/OP01-R06-GreekSalad-159750-160540-F003832-F003855/22_hand.npy\n",
      "/ssd2/datasets/EGTEA_Gaze++/hand_plus_object_npy/OP01-R06-GreekSalad/OP01-R06-GreekSalad-159750-160540-F003832-F003855/23_hand.npy\n",
      "/ssd2/datasets/EGTEA_Gaze++/hand_plus_object_npy/OP01-R06-GreekSalad/OP01-R06-GreekSalad-159750-160540-F003832-F003855/24_hand.npy\n"
     ]
    }
   ],
   "source": [
    "for x in range(1,25):\n",
    "    hand_path = \"/ssd2/datasets/EGTEA_Gaze++/hand_plus_object_npy/OP01-R06-GreekSalad/OP01-R06-GreekSalad-159750-160540-F003832-F003855/\" + f\"{x}_hand.npy\"\n",
    "    obj_path = \"/ssd2/datasets/EGTEA_Gaze++/hand_plus_object_npy/OP01-R06-GreekSalad/OP01-R06-GreekSalad-159750-160540-F003832-F003855/\" + f\"{x}_obj.npy\"\n",
    "    img_path = \"/ssd2/datasets/EGTEA_Gaze++/frames/OP01-R06-GreekSalad/OP01-R06-GreekSalad-159750-160540-F003832-F003855/\" + f\"{x}.jpg\"\n",
    "    print(hand_path)\n",
    "    hand_bbox, obj_bbox = get_np(hand_path, obj_path)\n",
    "    draw_bbox(img_path, hand_bbox, obj_bbox, f\"./{x}.jpg\")"
   ]
  },
  {
   "cell_type": "code",
   "execution_count": 5,
   "metadata": {},
   "outputs": [],
   "source": [
    "hand_path = \"/ssd2/datasets/EGTEA_Gaze++/hand_plus_object_npy/P01-R02-TurkeySandwich/P01-R02-TurkeySandwich-207519-211695-F004970-F005091/63_hand.npy\"\n",
    "obj_path = \"/ssd2/datasets/EGTEA_Gaze++/hand_plus_object_npy/P01-R02-TurkeySandwich/P01-R02-TurkeySandwich-207519-211695-F004970-F005091/63_obj.npy\"\n",
    "img_path = \"/ssd2/datasets/EGTEA_Gaze++/frames/P01-R02-TurkeySandwich/P01-R02-TurkeySandwich-207519-211695-F004970-F005091/63.jpg\"\n",
    "\n",
    "\n",
    "hand_bbox, obj_bbox = get_np(hand_path, obj_path)\n",
    "draw_bbox(img_path, hand_bbox, obj_bbox)"
   ]
  },
  {
   "cell_type": "code",
   "execution_count": 85,
   "metadata": {},
   "outputs": [
    {
     "data": {
      "text/plain": [
       "True"
      ]
     },
     "execution_count": 85,
     "metadata": {},
     "output_type": "execute_result"
    }
   ],
   "source": [
    "labels_path = \"/ssd2/datasets/EGTEA_Gaze++/frames/test.csv\"\n",
    "\n",
    "labels_dict = {}\n",
    "labels_count = {}\n",
    "\n",
    "img = np.zeros((480,640,3))\n",
    "\n",
    "\n",
    "\n",
    "img[:,:,:] = 240\n",
    "img[0:3,:,:] = 0\n",
    "img[:,0:3,:] = 0\n",
    "img[-3:,:,:] = 0\n",
    "img[:,-3:,:] = 0\n",
    "\n",
    "hand_counter = 0\n",
    "object_counter = 0 \n",
    "\n",
    "with open(labels_path, \"r\") as file:\n",
    "    lines = file.readlines()\n",
    "    \n",
    "    for idx, line in enumerate(lines):\n",
    "        if idx == 0:\n",
    "            continue\n",
    "            \n",
    "        dir_path = os.path.join(*line.split(\" \")[3].split(\"/\")[0:2])\n",
    "        #dir_path = line.split(\" \")[3]\n",
    "        label = line.split(\" \")[-1].replace(\"\\\"\", \"\").replace(\"\\n\", \"\")\n",
    "        labels_dict[dir_path] = label\n",
    "        \n",
    "        \n",
    "        if label not in labels_count:\n",
    "            labels_count[label] = 0\n",
    "            \n",
    "        labels_count[label] += 1\n",
    "        \n",
    "        \n",
    "for key,value in labels_dict.items():\n",
    "    \n",
    "    \n",
    "    #if value == \"38\" or value == \"52\" or value == \"76\":\n",
    "    if value == \"5\":\n",
    "        pass\n",
    "    else:\n",
    "        continue\n",
    "    bbox_dir = os.path.join(\"/ssd2/datasets/EGTEA_Gaze++\", \"hand_plus_object_npy\",key)\n",
    "    dir_path = os.path.join(*line.split(\" \")[3].split(\"/\")[0:2])\n",
    "    all_npys = os.listdir(bbox_dir)\n",
    "    \n",
    "    if value not in hand_areas:\n",
    "        hand_areas[value] = 0\n",
    "    if value not in obj_areas:\n",
    "        obj_areas[value] = 0\n",
    "        \n",
    "    \n",
    "    for npy in all_npys:\n",
    "        full_npy_path = os.path.join(bbox_dir, npy)\n",
    "        bboxes = np.load(full_npy_path)\n",
    "        for bbox in bboxes:\n",
    "            score = bbox[4]\n",
    "            if score > 0.8:\n",
    "                x1, y1, x2, y2 = bbox[0:4].astype(np.uint64)\n",
    "                if \"hand\" in npy:\n",
    "                    x1, y1, x2, y2 = bbox[0:4].astype(np.uint64)\n",
    "                    c_x = x1/2+x2/2\n",
    "                    c_y = y1/2+y2/2\n",
    "                    img = cv2.circle(img, (int(c_x), int(c_y)), 1, (0,0,200), thickness=-1, lineType=8, shift=0)\n",
    "                    hand_counter+=1\n",
    "                elif \"obj\" in npy:\n",
    "                    x1, y1, x2, y2 = bbox[0:4].astype(np.uint64)\n",
    "                    c_x = x1/2+x2/2\n",
    "                    c_y = y1/2+y2/2\n",
    "                    img = cv2.circle(img, (int(c_x), int(c_y)), 1, (200,0,0), thickness=-1, lineType=8, shift=0)\n",
    "                    object_counter+=1\n",
    "cv2.imwrite(\"./result_sec/output1.jpg\", img)"
   ]
  },
  {
   "cell_type": "code",
   "execution_count": 83,
   "metadata": {},
   "outputs": [
    {
     "name": "stdout",
     "output_type": "stream",
     "text": [
      "4920 3167\n"
     ]
    }
   ],
   "source": [
    "print(hand_counter, object_counter)"
   ]
  },
  {
   "cell_type": "code",
   "execution_count": 64,
   "metadata": {},
   "outputs": [
    {
     "name": "stdout",
     "output_type": "stream",
     "text": [
      "4920 3167\n"
     ]
    }
   ],
   "source": [
    "print(hand_counter, object_counter)"
   ]
  },
  {
   "cell_type": "code",
   "execution_count": 80,
   "metadata": {},
   "outputs": [],
   "source": [
    "def read_annots(dir):\n",
    "    names_action_path = os.path.join(dir, \"action_idx.txt\")\n",
    "    names_action = []\n",
    "    with open(names_action_path) as txt_file:\n",
    "        lines = txt_file.readlines()\n",
    "        for line in lines:\n",
    "            line = line.strip(\"\\n\")\n",
    "            names_action.append(\" \".join(line.split(\" \")[0:-1]))\n",
    "        \n",
    "    \n",
    "        \n",
    "    return names_action\n",
    "\n",
    "\n",
    "def generate_occ_txt_file(dir, actions_list):\n",
    "    train = os.path.join(dir, \"train.csv\")\n",
    "    test = os.path.join(dir, \"val.csv\")\n",
    "    \n",
    "    occ_dict = {}\n",
    "    \n",
    "    with open(train) as train_file:\n",
    "        lines = train_file.readlines()\n",
    "        vid_id = -2\n",
    "        for line in lines:\n",
    "            if vid_id == -2:\n",
    "                vid_id = -1\n",
    "                continue\n",
    "            line = line.strip(\"\\n\")\n",
    "            new_vid_id = line.split(\" \")[-4]\n",
    "            if new_vid_id == vid_id:\n",
    "                continue\n",
    "            \n",
    "            label = line.split(\" \")[-1].strip(\"\\\"\")\n",
    "            vid_id = new_vid_id\n",
    "            \n",
    "            if actions_list[int(label) - 1] not in occ_dict:\n",
    "                occ_dict[actions_list[int(label) - 1]] = 1\n",
    "            else:\n",
    "                occ_dict[actions_list[int(label) - 1]] += 1\n",
    "            \n",
    "            \n",
    "            \n",
    "            \n",
    "    return occ_dict\n",
    "\n",
    "def write_occ(occ_dict, outfile):\n",
    "    allowed_keys = [\"Inspect/Read recipe\", \"Open fridge\", \"Turn on faucet\", \"Open cabinet\", \"Operate stove\", \"Close fridge\", \"Open drawer\", \"Put cooking_utensil\", \"Turn off faucet\", \"Take cooking_utensil\", \"Close cabinet\", \"Open fridge_drawer\", \"Clean/Wipe counter\", \"Open dishwasher\", \"Close drawer\", \"Mix pasta\", \"Mix egg\", \"Pour water,faucet,pot\", \"Operate microwave\", \"Close fridge_drawer\", \"Put cooking_utensil\", \"Put eating_utensil\", \"Take cooking_utensil\", \"Take eating_utensil\", \"Mix pasta\", \"Mix egg\", \"Mix mixture,eating_utensil\"]\n",
    "    with open(outfile, \"w\") as file:\n",
    "        \n",
    "        for key in occ_dict.keys():\n",
    "            \n",
    "            if key not in allowed_keys:\n",
    "                continue\n",
    "            print(key, occ_dict[key])\n",
    "            for x in range(0, occ_dict[key]):\n",
    "                \n",
    "                key = key.replace(\" \", \"_\")\n",
    "                file.write(key + \" \")\n",
    "    \n",
    "    \n",
    "    \n",
    "    "
   ]
  },
  {
   "cell_type": "code",
   "execution_count": 81,
   "metadata": {},
   "outputs": [
    {
     "name": "stdout",
     "output_type": "stream",
     "text": [
      "['Inspect/Read recipe', 'Open fridge', 'Take eating_utensil', 'Cut tomato', 'Turn on faucet', 'Put eating_utensil', 'Open cabinet', 'Take condiment_container', 'Cut cucumber', 'Operate stove', 'Close fridge', 'Cut carrot', 'Put condiment_container', 'Cut onion', 'Open drawer', 'Take plate', 'Take bowl', 'Put bowl', 'Put trash,trash_container', 'Put plate', 'Cut bell_pepper', 'Put cooking_utensil', 'Take paper_towel', 'Move Around bacon', 'Open condiment_container', 'Wash eating_utensil', 'Spread condiment,bread,eating_utensil', 'Turn off faucet', 'Put pan', 'Take cooking_utensil', 'Put lettuce', 'Move Around patty', 'Put pot', 'Close cabinet', 'Put bread', 'Take bread', 'Close condiment_container', 'Open fridge_drawer', 'Wash hand', 'Put tomato', 'Take seasoning_container', 'Take cup', 'Divide/Pull Apart lettuce', 'Put cup', 'Take pot', 'Clean/Wipe counter', 'Take bread_container', 'Take tomato', 'Take pan', 'Move Around pan', 'Wash cutting_board', 'Put bread_container', 'Take sponge', 'Take lettuce', 'Take onion', 'Put sponge', 'Divide/Pull Apart paper_towel', 'Open dishwasher', 'Take cheese_container', 'Take oil_container', 'Put seasoning_container', 'Take cucumber', 'Wash pan', 'Take bell_pepper', 'Divide/Pull Apart onion', 'Put cutting_board', 'Mix mixture,eating_utensil', 'Take tomato_container', 'Put cheese', 'Move Around eating_utensil', 'Put bell_pepper', 'Pour oil,oil_container,pan', 'Take pasta_container', 'Cut lettuce', 'Put tomato_container', 'Wash bowl', 'Cut olive', 'Close drawer', 'Pour condiment,condiment_container,salad', 'Wash pot', 'Mix pasta', 'Open bread_container', 'Take grocery_bag', 'Take cheese', 'Pour seasoning,seasoning_container,salad', 'Mix egg', 'Pour water,faucet,pot', 'Put paper_towel', 'Put cucumber', 'Compress sandwich', 'Put cheese_container', 'Put onion', 'Crack egg', 'Take cutting_board', 'Open oil_container', 'Squeeze washing_liquid,sponge', 'Operate microwave', 'Close fridge_drawer', 'Wash strainer', 'Move Around bowl', 'Move Around pot', 'Put grocery_bag', 'Take egg', 'Open cheese_container', 'Close oil_container', 'Put oil_container']\n",
      "Inspect/Read recipe 602\n",
      "Open fridge 399\n",
      "Take eating_utensil 268\n",
      "Turn on faucet 204\n",
      "Put eating_utensil 204\n",
      "Open cabinet 200\n",
      "Operate stove 160\n",
      "Close fridge 157\n",
      "Open drawer 131\n",
      "Put cooking_utensil 108\n",
      "Turn off faucet 90\n",
      "Take cooking_utensil 85\n",
      "Close cabinet 79\n",
      "Open fridge_drawer 72\n",
      "Clean/Wipe counter 62\n",
      "Open dishwasher 47\n",
      "Mix mixture,eating_utensil 40\n",
      "Close drawer 36\n",
      "Mix pasta 35\n",
      "Mix egg 33\n",
      "Pour water,faucet,pot 32\n",
      "Operate microwave 29\n",
      "Close fridge_drawer 29\n"
     ]
    }
   ],
   "source": [
    "actions = read_annots(\"/home/soroush/Projects/dataset_scripts/EGTEA_Gaze+/dataset_prep/splits/\")\n",
    "print(actions)\n",
    "occ_dict = generate_occ_txt_file(\"/ssd2/datasets/EGTEA_Gaze+1/hand_plus_object_obfuscated/201/0/\", actions)\n",
    "write_occ(occ_dict, \"out.txt\")"
   ]
  },
  {
   "cell_type": "code",
   "execution_count": null,
   "metadata": {},
   "outputs": [],
   "source": []
  }
 ],
 "metadata": {
  "kernelspec": {
   "display_name": "Python 3 (ipykernel)",
   "language": "python",
   "name": "python3"
  },
  "language_info": {
   "codemirror_mode": {
    "name": "ipython",
    "version": 3
   },
   "file_extension": ".py",
   "mimetype": "text/x-python",
   "name": "python",
   "nbconvert_exporter": "python",
   "pygments_lexer": "ipython3",
   "version": "3.8.0"
  }
 },
 "nbformat": 4,
 "nbformat_minor": 2
}
